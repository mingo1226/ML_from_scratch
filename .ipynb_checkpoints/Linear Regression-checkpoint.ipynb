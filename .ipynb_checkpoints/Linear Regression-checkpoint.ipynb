{
 "cells": [
  {
   "cell_type": "code",
   "execution_count": 1,
   "metadata": {},
   "outputs": [],
   "source": [
    "import re\n",
    "import pandas as pd\n",
    "from datetime import datetime\n",
    "import numpy as np  \n",
    "import matplotlib.pyplot as plt  \n",
    "import seaborn as seabornInstance \n",
    "from sklearn.model_selection import train_test_split \n",
    "from sklearn.linear_model import LinearRegression\n",
    "from sklearn import metrics\n",
    "%matplotlib inline\n",
    "from sklearn.preprocessing import OneHotEncoder\n"
   ]
  },
  {
   "cell_type": "code",
   "execution_count": 2,
   "metadata": {},
   "outputs": [],
   "source": [
    "sleepcycle = pd.read_csv(\"data/sleepdata.csv\")"
   ]
  },
  {
   "cell_type": "code",
   "execution_count": 3,
   "metadata": {},
   "outputs": [
    {
     "data": {
      "text/html": [
       "<div>\n",
       "<style scoped>\n",
       "    .dataframe tbody tr th:only-of-type {\n",
       "        vertical-align: middle;\n",
       "    }\n",
       "\n",
       "    .dataframe tbody tr th {\n",
       "        vertical-align: top;\n",
       "    }\n",
       "\n",
       "    .dataframe thead th {\n",
       "        text-align: right;\n",
       "    }\n",
       "</style>\n",
       "<table border=\"1\" class=\"dataframe\">\n",
       "  <thead>\n",
       "    <tr style=\"text-align: right;\">\n",
       "      <th></th>\n",
       "      <th>Start;End;Sleep quality;Time in bed;Wake up;Sleep Notes;Heart rate;Activity (steps)</th>\n",
       "    </tr>\n",
       "  </thead>\n",
       "  <tbody>\n",
       "    <tr>\n",
       "      <td>0</td>\n",
       "      <td>2014-06-01 23:01:29;2014-06-02 08:15:52;0%;9:1...</td>\n",
       "    </tr>\n",
       "    <tr>\n",
       "      <td>1</td>\n",
       "      <td>2014-06-02 21:41:19;2014-06-03 05:07:37;0%;7:2...</td>\n",
       "    </tr>\n",
       "    <tr>\n",
       "      <td>2</td>\n",
       "      <td>2014-06-03 21:20:14;2014-06-04 04:55:45;0%;7:3...</td>\n",
       "    </tr>\n",
       "    <tr>\n",
       "      <td>3</td>\n",
       "      <td>2014-06-04 22:08:39;2014-06-05 05:08:52;59%;7:...</td>\n",
       "    </tr>\n",
       "    <tr>\n",
       "      <td>4</td>\n",
       "      <td>2014-06-05 21:41:30;2014-06-06 05:06:26;73%;7:...</td>\n",
       "    </tr>\n",
       "    <tr>\n",
       "      <td>...</td>\n",
       "      <td>...</td>\n",
       "    </tr>\n",
       "    <tr>\n",
       "      <td>1765</td>\n",
       "      <td>2020-03-22 22:02:43;2020-03-23 06:47:19;83%;8:...</td>\n",
       "    </tr>\n",
       "    <tr>\n",
       "      <td>1766</td>\n",
       "      <td>2020-03-23 22:21:54;2020-03-24 04:59:04;57%;6:...</td>\n",
       "    </tr>\n",
       "    <tr>\n",
       "      <td>1767</td>\n",
       "      <td>2020-03-24 21:31:09;2020-03-25 06:54:26;87%;9:...</td>\n",
       "    </tr>\n",
       "    <tr>\n",
       "      <td>1768</td>\n",
       "      <td>2020-03-25 22:19:56;2020-03-26 06:38:59;74%;8:...</td>\n",
       "    </tr>\n",
       "    <tr>\n",
       "      <td>1769</td>\n",
       "      <td>2020-03-26 22:19:11;2020-03-27 06:53:55;76%;8:...</td>\n",
       "    </tr>\n",
       "  </tbody>\n",
       "</table>\n",
       "<p>1770 rows × 1 columns</p>\n",
       "</div>"
      ],
      "text/plain": [
       "     Start;End;Sleep quality;Time in bed;Wake up;Sleep Notes;Heart rate;Activity (steps)\n",
       "0     2014-06-01 23:01:29;2014-06-02 08:15:52;0%;9:1...                                 \n",
       "1     2014-06-02 21:41:19;2014-06-03 05:07:37;0%;7:2...                                 \n",
       "2     2014-06-03 21:20:14;2014-06-04 04:55:45;0%;7:3...                                 \n",
       "3     2014-06-04 22:08:39;2014-06-05 05:08:52;59%;7:...                                 \n",
       "4     2014-06-05 21:41:30;2014-06-06 05:06:26;73%;7:...                                 \n",
       "...                                                 ...                                 \n",
       "1765  2020-03-22 22:02:43;2020-03-23 06:47:19;83%;8:...                                 \n",
       "1766  2020-03-23 22:21:54;2020-03-24 04:59:04;57%;6:...                                 \n",
       "1767  2020-03-24 21:31:09;2020-03-25 06:54:26;87%;9:...                                 \n",
       "1768  2020-03-25 22:19:56;2020-03-26 06:38:59;74%;8:...                                 \n",
       "1769  2020-03-26 22:19:11;2020-03-27 06:53:55;76%;8:...                                 \n",
       "\n",
       "[1770 rows x 1 columns]"
      ]
     },
     "execution_count": 3,
     "metadata": {},
     "output_type": "execute_result"
    }
   ],
   "source": [
    "sleepcycle"
   ]
  },
  {
   "cell_type": "code",
   "execution_count": 4,
   "metadata": {},
   "outputs": [
    {
     "data": {
      "text/plain": [
       "['Start',\n",
       " 'End',\n",
       " 'Sleep_quality',\n",
       " 'Time_in_bed',\n",
       " 'Wake_up',\n",
       " 'Sleep_Notes',\n",
       " 'Heart_rate',\n",
       " 'Activity_(steps)']"
      ]
     },
     "execution_count": 4,
     "metadata": {},
     "output_type": "execute_result"
    }
   ],
   "source": [
    "#parse true column names\n",
    "colnames = list(sleepcycle.columns)\n",
    "colstring = str(colnames).strip('[]').strip(\"''\").replace(\" \", \"_\")\n",
    "\n",
    "colstring.split(';')"
   ]
  },
  {
   "cell_type": "code",
   "execution_count": 5,
   "metadata": {},
   "outputs": [],
   "source": [
    "#parse column observations\n",
    "newdata = []\n",
    "for i in range(0,len(sleepcycle)):\n",
    "    newdata.append(sleepcycle.iloc[i,0].split(';'))"
   ]
  },
  {
   "cell_type": "code",
   "execution_count": 6,
   "metadata": {},
   "outputs": [
    {
     "name": "stdout",
     "output_type": "stream",
     "text": [
      "                 Start                  End Sleep_quality Time_in_bed Wake_up  \\\n",
      "0  2014-06-01 23:01:29  2014-06-02 08:15:52            0%        9:14           \n",
      "1  2014-06-02 21:41:19  2014-06-03 05:07:37            0%        7:26           \n",
      "2  2014-06-03 21:20:14  2014-06-04 04:55:45            0%        7:35           \n",
      "3  2014-06-04 22:08:39  2014-06-05 05:08:52           59%        7:00           \n",
      "4  2014-06-05 21:41:30  2014-06-06 05:06:26           73%        7:24           \n",
      "\n",
      "  Sleep_Notes Heart_rate Activity_(steps)  \n",
      "0                      0             3844  \n",
      "1                      0             9066  \n",
      "2                      0            13206  \n",
      "3                      0             9353  \n",
      "4                      0            15195  \n"
     ]
    }
   ],
   "source": [
    "#update dataframe\n",
    "sleepdata = pd.DataFrame(newdata, columns = colstring.split(';'))\n",
    "print(sleepdata.head())"
   ]
  },
  {
   "cell_type": "code",
   "execution_count": 7,
   "metadata": {},
   "outputs": [
    {
     "name": "stdout",
     "output_type": "stream",
     "text": [
      "                    Start                  End Sleep_quality Time_in_bed  \\\n",
      "0     2014-06-01 23:01:29  2014-06-02 08:15:52            0         9:14   \n",
      "1     2014-06-02 21:41:19  2014-06-03 05:07:37            0         7:26   \n",
      "2     2014-06-03 21:20:14  2014-06-04 04:55:45            0         7:35   \n",
      "3     2014-06-04 22:08:39  2014-06-05 05:08:52           59         7:00   \n",
      "4     2014-06-05 21:41:30  2014-06-06 05:06:26           73         7:24   \n",
      "...                   ...                  ...           ...         ...   \n",
      "1765  2020-03-22 22:02:43  2020-03-23 06:47:19           83         8:44   \n",
      "1766  2020-03-23 22:21:54  2020-03-24 04:59:04           57         6:37   \n",
      "1767  2020-03-24 21:31:09  2020-03-25 06:54:26           87         9:23   \n",
      "1768  2020-03-25 22:19:56  2020-03-26 06:38:59           74         8:19   \n",
      "1769  2020-03-26 22:19:11  2020-03-27 06:53:55           76         8:34   \n",
      "\n",
      "     Wake_up Sleep_Notes Heart_rate Activity_(steps)  \n",
      "0                                 0             3844  \n",
      "1                                 0             9066  \n",
      "2                                 0            13206  \n",
      "3                                 0             9353  \n",
      "4                                 0            15195  \n",
      "...      ...         ...        ...              ...  \n",
      "1765                              0                0  \n",
      "1766                              0                0  \n",
      "1767                              0                0  \n",
      "1768                              0                0  \n",
      "1769                              0                0  \n",
      "\n",
      "[1770 rows x 8 columns]\n"
     ]
    }
   ],
   "source": [
    "#delete % in sleep quality attribute\n",
    "sleepdata['Sleep_quality'] = sleepdata['Sleep_quality'].replace(to_replace=r'%', value = ' ', regex=True)\n",
    "\n",
    "print(sleepdata)"
   ]
  },
  {
   "cell_type": "code",
   "execution_count": 8,
   "metadata": {},
   "outputs": [],
   "source": [
    "#replace : with . for time_in_bed variable\n",
    "sleepdata['Time_in_bed'] = sleepdata['Time_in_bed'].replace(to_replace=r':', value = '.', regex=True).apply(float)"
   ]
  },
  {
   "cell_type": "code",
   "execution_count": 9,
   "metadata": {},
   "outputs": [],
   "source": [
    "#define function to turn minutes from duration into decimal\n",
    "def splitminutes(number):\n",
    "    new = number.split('.')\n",
    "    for i in range(0, len(new)): \n",
    "        new[i] = int(new[i]) \n",
    "    new[1]=new[1]/60\n",
    "    new = new[0]+new[1]\n",
    "    return new"
   ]
  },
  {
   "cell_type": "code",
   "execution_count": 10,
   "metadata": {},
   "outputs": [],
   "source": [
    "#run fuction splitminutes through Time_in_bed data to get true decimal\n",
    "temp = []\n",
    "for i in range(0,len(sleepdata['Time_in_bed'])):\n",
    "    temp.append(splitminutes(str(sleepdata['Time_in_bed'][i])))\n",
    "sleepdata['Time_in_bed'] = temp"
   ]
  },
  {
   "cell_type": "code",
   "execution_count": 11,
   "metadata": {},
   "outputs": [],
   "source": [
    "#transform start and end to datetime\n",
    "start = pd.to_datetime(sleepdata['Start'])\n",
    "end = pd.to_datetime(sleepdata['End'])\n",
    "sleepdata['Start'] = start\n",
    "sleepdata['End'] = end"
   ]
  },
  {
   "cell_type": "code",
   "execution_count": 12,
   "metadata": {},
   "outputs": [],
   "source": [
    "#import heart rate data & select needed columns only\n",
    "heartrate = pd.read_csv('/Users/andrewleonard/Documents/GitHub/qs_ledger/apple_health/data/RestingHeartRate.csv')\n",
    "heartrate = heartrate[['creationDate', 'value']]"
   ]
  },
  {
   "cell_type": "code",
   "execution_count": 13,
   "metadata": {},
   "outputs": [],
   "source": [
    "#remove -5000 at end of creationDate\n",
    "tempvalue = []\n",
    "for i in range(0,len(heartrate['creationDate'])):\n",
    "    tempvalue.append(heartrate['creationDate'][i].strip('-0500'))\n",
    "heartrate['creationDate'] = tempvalue"
   ]
  },
  {
   "cell_type": "code",
   "execution_count": 14,
   "metadata": {},
   "outputs": [],
   "source": [
    "#transform createDate to datetime\n",
    "startdate = pd.to_datetime(heartrate['creationDate'])\n",
    "heartrate['creationDate'] = startdate"
   ]
  },
  {
   "cell_type": "code",
   "execution_count": 15,
   "metadata": {},
   "outputs": [],
   "source": [
    "#parse out date only from datetime for heartrate and sleep data\n",
    "#CHOOSE Start OR End date for sleepdata\n",
    "temp = []\n",
    "heartrate['HRDay'] = 'NaN'\n",
    "for i in range(0, len(heartrate['creationDate'])):\n",
    "    temp.append(heartrate['creationDate'][i].date())\n",
    "heartrate['HRDay'] = temp\n",
    "    \n",
    "temp = []    \n",
    "sleepdata['SleepDay'] = 'NaN'\n",
    "for i in range(0, len(sleepdata['Start'])):\n",
    "    temp.append(sleepdata['Start'][i].date())\n",
    "sleepdata['SleepDay'] = temp"
   ]
  },
  {
   "cell_type": "code",
   "execution_count": 16,
   "metadata": {},
   "outputs": [],
   "source": [
    "#merge data frames based on matching dates\n",
    "healthdata = pd.merge(sleepdata, heartrate, left_on='SleepDay', right_on='HRDay', how = 'inner')"
   ]
  },
  {
   "cell_type": "code",
   "execution_count": 17,
   "metadata": {},
   "outputs": [],
   "source": [
    "#add weekend bionary value\n",
    "healthdata['Weekend'] = (healthdata['creationDate'].dt.dayofweek// 5 == 1).astype(float)"
   ]
  },
  {
   "cell_type": "code",
   "execution_count": 18,
   "metadata": {},
   "outputs": [],
   "source": [
    "#enc = OneHotEncoder(handle_unknown='ignore')\n",
    "#enc_df = pd.DataFrame(enc.fit_transform(healthdata[['Weekend']]).toarray())\n",
    "#healthdata = healthdata.join(enc_df)"
   ]
  },
  {
   "cell_type": "code",
   "execution_count": 19,
   "metadata": {},
   "outputs": [],
   "source": [
    "dummies = pd.get_dummies(healthdata['Weekend'])\n",
    "healthdata = healthdata.join(dummies)"
   ]
  },
  {
   "cell_type": "code",
   "execution_count": null,
   "metadata": {},
   "outputs": [],
   "source": [
    "#quality to type float\n",
    "healthdata['Sleep_quality'] = healthdata['Sleep_quality'].astype(float)"
   ]
  },
  {
   "cell_type": "code",
   "execution_count": 91,
   "metadata": {},
   "outputs": [
    {
     "name": "stdout",
     "output_type": "stream",
     "text": [
      "90.79761904761905\n",
      "84.05872756933115\n"
     ]
    }
   ],
   "source": [
    "print(healthdata['Sleep_quality'].loc[healthdata[0.0]==0].mean())\n",
    "print(healthdata['Sleep_quality'].loc[healthdata[0.0]==1].mean())"
   ]
  },
  {
   "cell_type": "code",
   "execution_count": 38,
   "metadata": {},
   "outputs": [
    {
     "data": {
      "text/plain": [
       "85.50832266325224"
      ]
     },
     "execution_count": 38,
     "metadata": {},
     "output_type": "execute_result"
    }
   ],
   "source": [
    "healthdata['Sleep_quality'].mean()"
   ]
  },
  {
   "cell_type": "code",
   "execution_count": 39,
   "metadata": {},
   "outputs": [
    {
     "data": {
      "text/html": [
       "<div>\n",
       "<style scoped>\n",
       "    .dataframe tbody tr th:only-of-type {\n",
       "        vertical-align: middle;\n",
       "    }\n",
       "\n",
       "    .dataframe tbody tr th {\n",
       "        vertical-align: top;\n",
       "    }\n",
       "\n",
       "    .dataframe thead th {\n",
       "        text-align: right;\n",
       "    }\n",
       "</style>\n",
       "<table border=\"1\" class=\"dataframe\">\n",
       "  <thead>\n",
       "    <tr style=\"text-align: right;\">\n",
       "      <th></th>\n",
       "      <th>Start</th>\n",
       "      <th>End</th>\n",
       "      <th>Sleep_quality</th>\n",
       "      <th>Time_in_bed</th>\n",
       "      <th>Wake_up</th>\n",
       "      <th>Sleep_Notes</th>\n",
       "      <th>Heart_rate</th>\n",
       "      <th>Activity_(steps)</th>\n",
       "      <th>SleepDay</th>\n",
       "      <th>creationDate</th>\n",
       "      <th>value</th>\n",
       "      <th>HRDay</th>\n",
       "      <th>Weekend</th>\n",
       "      <th>0.0</th>\n",
       "      <th>1.0</th>\n",
       "    </tr>\n",
       "  </thead>\n",
       "  <tbody>\n",
       "    <tr>\n",
       "      <td>0</td>\n",
       "      <td>2017-09-25 22:11:31</td>\n",
       "      <td>2017-09-26 05:27:44</td>\n",
       "      <td>75.0</td>\n",
       "      <td>7.266667</td>\n",
       "      <td></td>\n",
       "      <td></td>\n",
       "      <td>0</td>\n",
       "      <td>10998</td>\n",
       "      <td>2017-09-25</td>\n",
       "      <td>2017-09-25 21:46:14</td>\n",
       "      <td>60</td>\n",
       "      <td>2017-09-25</td>\n",
       "      <td>0.0</td>\n",
       "      <td>1</td>\n",
       "      <td>0</td>\n",
       "    </tr>\n",
       "    <tr>\n",
       "      <td>1</td>\n",
       "      <td>2017-09-26 21:49:25</td>\n",
       "      <td>2017-09-27 05:36:03</td>\n",
       "      <td>73.0</td>\n",
       "      <td>7.766667</td>\n",
       "      <td></td>\n",
       "      <td></td>\n",
       "      <td>0</td>\n",
       "      <td>8617</td>\n",
       "      <td>2017-09-26</td>\n",
       "      <td>2017-09-26 21:41:07</td>\n",
       "      <td>64</td>\n",
       "      <td>2017-09-26</td>\n",
       "      <td>0.0</td>\n",
       "      <td>1</td>\n",
       "      <td>0</td>\n",
       "    </tr>\n",
       "    <tr>\n",
       "      <td>2</td>\n",
       "      <td>2017-09-27 21:50:47</td>\n",
       "      <td>2017-09-28 05:04:03</td>\n",
       "      <td>72.0</td>\n",
       "      <td>7.216667</td>\n",
       "      <td></td>\n",
       "      <td></td>\n",
       "      <td>0</td>\n",
       "      <td>13334</td>\n",
       "      <td>2017-09-27</td>\n",
       "      <td>2017-09-27 21:25:45</td>\n",
       "      <td>66</td>\n",
       "      <td>2017-09-27</td>\n",
       "      <td>0.0</td>\n",
       "      <td>1</td>\n",
       "      <td>0</td>\n",
       "    </tr>\n",
       "    <tr>\n",
       "      <td>3</td>\n",
       "      <td>2017-09-28 21:39:15</td>\n",
       "      <td>2017-09-29 05:41:53</td>\n",
       "      <td>83.0</td>\n",
       "      <td>8.033333</td>\n",
       "      <td></td>\n",
       "      <td></td>\n",
       "      <td>0</td>\n",
       "      <td>20242</td>\n",
       "      <td>2017-09-28</td>\n",
       "      <td>2017-09-28 21:02:10</td>\n",
       "      <td>56</td>\n",
       "      <td>2017-09-28</td>\n",
       "      <td>0.0</td>\n",
       "      <td>1</td>\n",
       "      <td>0</td>\n",
       "    </tr>\n",
       "    <tr>\n",
       "      <td>4</td>\n",
       "      <td>2017-09-29 23:13:14</td>\n",
       "      <td>2017-09-30 06:26:00</td>\n",
       "      <td>80.0</td>\n",
       "      <td>7.200000</td>\n",
       "      <td></td>\n",
       "      <td></td>\n",
       "      <td>0</td>\n",
       "      <td>14844</td>\n",
       "      <td>2017-09-29</td>\n",
       "      <td>2017-09-29 21:26:39</td>\n",
       "      <td>56</td>\n",
       "      <td>2017-09-29</td>\n",
       "      <td>0.0</td>\n",
       "      <td>1</td>\n",
       "      <td>0</td>\n",
       "    </tr>\n",
       "    <tr>\n",
       "      <td>...</td>\n",
       "      <td>...</td>\n",
       "      <td>...</td>\n",
       "      <td>...</td>\n",
       "      <td>...</td>\n",
       "      <td>...</td>\n",
       "      <td>...</td>\n",
       "      <td>...</td>\n",
       "      <td>...</td>\n",
       "      <td>...</td>\n",
       "      <td>...</td>\n",
       "      <td>...</td>\n",
       "      <td>...</td>\n",
       "      <td>...</td>\n",
       "      <td>...</td>\n",
       "      <td>...</td>\n",
       "    </tr>\n",
       "    <tr>\n",
       "      <td>776</td>\n",
       "      <td>2020-03-23 22:21:54</td>\n",
       "      <td>2020-03-24 04:59:04</td>\n",
       "      <td>57.0</td>\n",
       "      <td>6.616667</td>\n",
       "      <td></td>\n",
       "      <td></td>\n",
       "      <td>0</td>\n",
       "      <td>0</td>\n",
       "      <td>2020-03-23</td>\n",
       "      <td>2020-03-23 06:53:21</td>\n",
       "      <td>55</td>\n",
       "      <td>2020-03-23</td>\n",
       "      <td>0.0</td>\n",
       "      <td>1</td>\n",
       "      <td>0</td>\n",
       "    </tr>\n",
       "    <tr>\n",
       "      <td>777</td>\n",
       "      <td>2020-03-23 22:21:54</td>\n",
       "      <td>2020-03-24 04:59:04</td>\n",
       "      <td>57.0</td>\n",
       "      <td>6.616667</td>\n",
       "      <td></td>\n",
       "      <td></td>\n",
       "      <td>0</td>\n",
       "      <td>0</td>\n",
       "      <td>2020-03-23</td>\n",
       "      <td>2020-03-23 14:51:20</td>\n",
       "      <td>59</td>\n",
       "      <td>2020-03-23</td>\n",
       "      <td>0.0</td>\n",
       "      <td>1</td>\n",
       "      <td>0</td>\n",
       "    </tr>\n",
       "    <tr>\n",
       "      <td>778</td>\n",
       "      <td>2020-03-24 21:31:09</td>\n",
       "      <td>2020-03-25 06:54:26</td>\n",
       "      <td>87.0</td>\n",
       "      <td>9.383333</td>\n",
       "      <td></td>\n",
       "      <td></td>\n",
       "      <td>0</td>\n",
       "      <td>0</td>\n",
       "      <td>2020-03-24</td>\n",
       "      <td>2020-03-24 20:46:44</td>\n",
       "      <td>58</td>\n",
       "      <td>2020-03-24</td>\n",
       "      <td>0.0</td>\n",
       "      <td>1</td>\n",
       "      <td>0</td>\n",
       "    </tr>\n",
       "    <tr>\n",
       "      <td>779</td>\n",
       "      <td>2020-03-26 22:19:11</td>\n",
       "      <td>2020-03-27 06:53:55</td>\n",
       "      <td>76.0</td>\n",
       "      <td>8.566667</td>\n",
       "      <td></td>\n",
       "      <td></td>\n",
       "      <td>0</td>\n",
       "      <td>0</td>\n",
       "      <td>2020-03-26</td>\n",
       "      <td>2020-03-26 06:48:45</td>\n",
       "      <td>58</td>\n",
       "      <td>2020-03-26</td>\n",
       "      <td>0.0</td>\n",
       "      <td>1</td>\n",
       "      <td>0</td>\n",
       "    </tr>\n",
       "    <tr>\n",
       "      <td>780</td>\n",
       "      <td>2020-03-26 22:19:11</td>\n",
       "      <td>2020-03-27 06:53:55</td>\n",
       "      <td>76.0</td>\n",
       "      <td>8.566667</td>\n",
       "      <td></td>\n",
       "      <td></td>\n",
       "      <td>0</td>\n",
       "      <td>0</td>\n",
       "      <td>2020-03-26</td>\n",
       "      <td>2020-03-26 20:06:17</td>\n",
       "      <td>51</td>\n",
       "      <td>2020-03-26</td>\n",
       "      <td>0.0</td>\n",
       "      <td>1</td>\n",
       "      <td>0</td>\n",
       "    </tr>\n",
       "  </tbody>\n",
       "</table>\n",
       "<p>781 rows × 15 columns</p>\n",
       "</div>"
      ],
      "text/plain": [
       "                  Start                 End  Sleep_quality  Time_in_bed  \\\n",
       "0   2017-09-25 22:11:31 2017-09-26 05:27:44           75.0     7.266667   \n",
       "1   2017-09-26 21:49:25 2017-09-27 05:36:03           73.0     7.766667   \n",
       "2   2017-09-27 21:50:47 2017-09-28 05:04:03           72.0     7.216667   \n",
       "3   2017-09-28 21:39:15 2017-09-29 05:41:53           83.0     8.033333   \n",
       "4   2017-09-29 23:13:14 2017-09-30 06:26:00           80.0     7.200000   \n",
       "..                  ...                 ...            ...          ...   \n",
       "776 2020-03-23 22:21:54 2020-03-24 04:59:04           57.0     6.616667   \n",
       "777 2020-03-23 22:21:54 2020-03-24 04:59:04           57.0     6.616667   \n",
       "778 2020-03-24 21:31:09 2020-03-25 06:54:26           87.0     9.383333   \n",
       "779 2020-03-26 22:19:11 2020-03-27 06:53:55           76.0     8.566667   \n",
       "780 2020-03-26 22:19:11 2020-03-27 06:53:55           76.0     8.566667   \n",
       "\n",
       "    Wake_up Sleep_Notes Heart_rate Activity_(steps)    SleepDay  \\\n",
       "0                                0            10998  2017-09-25   \n",
       "1                                0             8617  2017-09-26   \n",
       "2                                0            13334  2017-09-27   \n",
       "3                                0            20242  2017-09-28   \n",
       "4                                0            14844  2017-09-29   \n",
       "..      ...         ...        ...              ...         ...   \n",
       "776                              0                0  2020-03-23   \n",
       "777                              0                0  2020-03-23   \n",
       "778                              0                0  2020-03-24   \n",
       "779                              0                0  2020-03-26   \n",
       "780                              0                0  2020-03-26   \n",
       "\n",
       "           creationDate  value       HRDay  Weekend  0.0  1.0  \n",
       "0   2017-09-25 21:46:14     60  2017-09-25      0.0    1    0  \n",
       "1   2017-09-26 21:41:07     64  2017-09-26      0.0    1    0  \n",
       "2   2017-09-27 21:25:45     66  2017-09-27      0.0    1    0  \n",
       "3   2017-09-28 21:02:10     56  2017-09-28      0.0    1    0  \n",
       "4   2017-09-29 21:26:39     56  2017-09-29      0.0    1    0  \n",
       "..                  ...    ...         ...      ...  ...  ...  \n",
       "776 2020-03-23 06:53:21     55  2020-03-23      0.0    1    0  \n",
       "777 2020-03-23 14:51:20     59  2020-03-23      0.0    1    0  \n",
       "778 2020-03-24 20:46:44     58  2020-03-24      0.0    1    0  \n",
       "779 2020-03-26 06:48:45     58  2020-03-26      0.0    1    0  \n",
       "780 2020-03-26 20:06:17     51  2020-03-26      0.0    1    0  \n",
       "\n",
       "[781 rows x 15 columns]"
      ]
     },
     "execution_count": 39,
     "metadata": {},
     "output_type": "execute_result"
    }
   ],
   "source": [
    "healthdata"
   ]
  },
  {
   "cell_type": "code",
   "execution_count": 40,
   "metadata": {},
   "outputs": [],
   "source": [
    "#drop unneeded variables\n",
    "healthdata = healthdata.iloc[:,[0,1,2,3,7,8,9,10,11,13,14]]"
   ]
  },
  {
   "cell_type": "code",
   "execution_count": 41,
   "metadata": {},
   "outputs": [
    {
     "data": {
      "text/html": [
       "<div>\n",
       "<style scoped>\n",
       "    .dataframe tbody tr th:only-of-type {\n",
       "        vertical-align: middle;\n",
       "    }\n",
       "\n",
       "    .dataframe tbody tr th {\n",
       "        vertical-align: top;\n",
       "    }\n",
       "\n",
       "    .dataframe thead th {\n",
       "        text-align: right;\n",
       "    }\n",
       "</style>\n",
       "<table border=\"1\" class=\"dataframe\">\n",
       "  <thead>\n",
       "    <tr style=\"text-align: right;\">\n",
       "      <th></th>\n",
       "      <th>Start</th>\n",
       "      <th>End</th>\n",
       "      <th>Sleep_quality</th>\n",
       "      <th>Time_in_bed</th>\n",
       "      <th>Activity_(steps)</th>\n",
       "      <th>SleepDay</th>\n",
       "      <th>creationDate</th>\n",
       "      <th>value</th>\n",
       "      <th>HRDay</th>\n",
       "      <th>0.0</th>\n",
       "      <th>1.0</th>\n",
       "    </tr>\n",
       "  </thead>\n",
       "  <tbody>\n",
       "    <tr>\n",
       "      <td>0</td>\n",
       "      <td>2017-09-25 22:11:31</td>\n",
       "      <td>2017-09-26 05:27:44</td>\n",
       "      <td>75.0</td>\n",
       "      <td>7.266667</td>\n",
       "      <td>10998</td>\n",
       "      <td>2017-09-25</td>\n",
       "      <td>2017-09-25 21:46:14</td>\n",
       "      <td>60</td>\n",
       "      <td>2017-09-25</td>\n",
       "      <td>1</td>\n",
       "      <td>0</td>\n",
       "    </tr>\n",
       "    <tr>\n",
       "      <td>1</td>\n",
       "      <td>2017-09-26 21:49:25</td>\n",
       "      <td>2017-09-27 05:36:03</td>\n",
       "      <td>73.0</td>\n",
       "      <td>7.766667</td>\n",
       "      <td>8617</td>\n",
       "      <td>2017-09-26</td>\n",
       "      <td>2017-09-26 21:41:07</td>\n",
       "      <td>64</td>\n",
       "      <td>2017-09-26</td>\n",
       "      <td>1</td>\n",
       "      <td>0</td>\n",
       "    </tr>\n",
       "    <tr>\n",
       "      <td>2</td>\n",
       "      <td>2017-09-27 21:50:47</td>\n",
       "      <td>2017-09-28 05:04:03</td>\n",
       "      <td>72.0</td>\n",
       "      <td>7.216667</td>\n",
       "      <td>13334</td>\n",
       "      <td>2017-09-27</td>\n",
       "      <td>2017-09-27 21:25:45</td>\n",
       "      <td>66</td>\n",
       "      <td>2017-09-27</td>\n",
       "      <td>1</td>\n",
       "      <td>0</td>\n",
       "    </tr>\n",
       "    <tr>\n",
       "      <td>3</td>\n",
       "      <td>2017-09-28 21:39:15</td>\n",
       "      <td>2017-09-29 05:41:53</td>\n",
       "      <td>83.0</td>\n",
       "      <td>8.033333</td>\n",
       "      <td>20242</td>\n",
       "      <td>2017-09-28</td>\n",
       "      <td>2017-09-28 21:02:10</td>\n",
       "      <td>56</td>\n",
       "      <td>2017-09-28</td>\n",
       "      <td>1</td>\n",
       "      <td>0</td>\n",
       "    </tr>\n",
       "    <tr>\n",
       "      <td>4</td>\n",
       "      <td>2017-09-29 23:13:14</td>\n",
       "      <td>2017-09-30 06:26:00</td>\n",
       "      <td>80.0</td>\n",
       "      <td>7.200000</td>\n",
       "      <td>14844</td>\n",
       "      <td>2017-09-29</td>\n",
       "      <td>2017-09-29 21:26:39</td>\n",
       "      <td>56</td>\n",
       "      <td>2017-09-29</td>\n",
       "      <td>1</td>\n",
       "      <td>0</td>\n",
       "    </tr>\n",
       "    <tr>\n",
       "      <td>...</td>\n",
       "      <td>...</td>\n",
       "      <td>...</td>\n",
       "      <td>...</td>\n",
       "      <td>...</td>\n",
       "      <td>...</td>\n",
       "      <td>...</td>\n",
       "      <td>...</td>\n",
       "      <td>...</td>\n",
       "      <td>...</td>\n",
       "      <td>...</td>\n",
       "      <td>...</td>\n",
       "    </tr>\n",
       "    <tr>\n",
       "      <td>776</td>\n",
       "      <td>2020-03-23 22:21:54</td>\n",
       "      <td>2020-03-24 04:59:04</td>\n",
       "      <td>57.0</td>\n",
       "      <td>6.616667</td>\n",
       "      <td>0</td>\n",
       "      <td>2020-03-23</td>\n",
       "      <td>2020-03-23 06:53:21</td>\n",
       "      <td>55</td>\n",
       "      <td>2020-03-23</td>\n",
       "      <td>1</td>\n",
       "      <td>0</td>\n",
       "    </tr>\n",
       "    <tr>\n",
       "      <td>777</td>\n",
       "      <td>2020-03-23 22:21:54</td>\n",
       "      <td>2020-03-24 04:59:04</td>\n",
       "      <td>57.0</td>\n",
       "      <td>6.616667</td>\n",
       "      <td>0</td>\n",
       "      <td>2020-03-23</td>\n",
       "      <td>2020-03-23 14:51:20</td>\n",
       "      <td>59</td>\n",
       "      <td>2020-03-23</td>\n",
       "      <td>1</td>\n",
       "      <td>0</td>\n",
       "    </tr>\n",
       "    <tr>\n",
       "      <td>778</td>\n",
       "      <td>2020-03-24 21:31:09</td>\n",
       "      <td>2020-03-25 06:54:26</td>\n",
       "      <td>87.0</td>\n",
       "      <td>9.383333</td>\n",
       "      <td>0</td>\n",
       "      <td>2020-03-24</td>\n",
       "      <td>2020-03-24 20:46:44</td>\n",
       "      <td>58</td>\n",
       "      <td>2020-03-24</td>\n",
       "      <td>1</td>\n",
       "      <td>0</td>\n",
       "    </tr>\n",
       "    <tr>\n",
       "      <td>779</td>\n",
       "      <td>2020-03-26 22:19:11</td>\n",
       "      <td>2020-03-27 06:53:55</td>\n",
       "      <td>76.0</td>\n",
       "      <td>8.566667</td>\n",
       "      <td>0</td>\n",
       "      <td>2020-03-26</td>\n",
       "      <td>2020-03-26 06:48:45</td>\n",
       "      <td>58</td>\n",
       "      <td>2020-03-26</td>\n",
       "      <td>1</td>\n",
       "      <td>0</td>\n",
       "    </tr>\n",
       "    <tr>\n",
       "      <td>780</td>\n",
       "      <td>2020-03-26 22:19:11</td>\n",
       "      <td>2020-03-27 06:53:55</td>\n",
       "      <td>76.0</td>\n",
       "      <td>8.566667</td>\n",
       "      <td>0</td>\n",
       "      <td>2020-03-26</td>\n",
       "      <td>2020-03-26 20:06:17</td>\n",
       "      <td>51</td>\n",
       "      <td>2020-03-26</td>\n",
       "      <td>1</td>\n",
       "      <td>0</td>\n",
       "    </tr>\n",
       "  </tbody>\n",
       "</table>\n",
       "<p>781 rows × 11 columns</p>\n",
       "</div>"
      ],
      "text/plain": [
       "                  Start                 End  Sleep_quality  Time_in_bed  \\\n",
       "0   2017-09-25 22:11:31 2017-09-26 05:27:44           75.0     7.266667   \n",
       "1   2017-09-26 21:49:25 2017-09-27 05:36:03           73.0     7.766667   \n",
       "2   2017-09-27 21:50:47 2017-09-28 05:04:03           72.0     7.216667   \n",
       "3   2017-09-28 21:39:15 2017-09-29 05:41:53           83.0     8.033333   \n",
       "4   2017-09-29 23:13:14 2017-09-30 06:26:00           80.0     7.200000   \n",
       "..                  ...                 ...            ...          ...   \n",
       "776 2020-03-23 22:21:54 2020-03-24 04:59:04           57.0     6.616667   \n",
       "777 2020-03-23 22:21:54 2020-03-24 04:59:04           57.0     6.616667   \n",
       "778 2020-03-24 21:31:09 2020-03-25 06:54:26           87.0     9.383333   \n",
       "779 2020-03-26 22:19:11 2020-03-27 06:53:55           76.0     8.566667   \n",
       "780 2020-03-26 22:19:11 2020-03-27 06:53:55           76.0     8.566667   \n",
       "\n",
       "    Activity_(steps)    SleepDay        creationDate  value       HRDay  0.0  \\\n",
       "0              10998  2017-09-25 2017-09-25 21:46:14     60  2017-09-25    1   \n",
       "1               8617  2017-09-26 2017-09-26 21:41:07     64  2017-09-26    1   \n",
       "2              13334  2017-09-27 2017-09-27 21:25:45     66  2017-09-27    1   \n",
       "3              20242  2017-09-28 2017-09-28 21:02:10     56  2017-09-28    1   \n",
       "4              14844  2017-09-29 2017-09-29 21:26:39     56  2017-09-29    1   \n",
       "..               ...         ...                 ...    ...         ...  ...   \n",
       "776                0  2020-03-23 2020-03-23 06:53:21     55  2020-03-23    1   \n",
       "777                0  2020-03-23 2020-03-23 14:51:20     59  2020-03-23    1   \n",
       "778                0  2020-03-24 2020-03-24 20:46:44     58  2020-03-24    1   \n",
       "779                0  2020-03-26 2020-03-26 06:48:45     58  2020-03-26    1   \n",
       "780                0  2020-03-26 2020-03-26 20:06:17     51  2020-03-26    1   \n",
       "\n",
       "     1.0  \n",
       "0      0  \n",
       "1      0  \n",
       "2      0  \n",
       "3      0  \n",
       "4      0  \n",
       "..   ...  \n",
       "776    0  \n",
       "777    0  \n",
       "778    0  \n",
       "779    0  \n",
       "780    0  \n",
       "\n",
       "[781 rows x 11 columns]"
      ]
     },
     "execution_count": 41,
     "metadata": {},
     "output_type": "execute_result"
    }
   ],
   "source": [
    "healthdata"
   ]
  },
  {
   "cell_type": "code",
   "execution_count": 42,
   "metadata": {},
   "outputs": [
    {
     "name": "stderr",
     "output_type": "stream",
     "text": [
      "/Users/andrewleonard/opt/anaconda3/lib/python3.7/site-packages/ipykernel_launcher.py:4: SettingWithCopyWarning: \n",
      "A value is trying to be set on a copy of a slice from a DataFrame.\n",
      "Try using .loc[row_indexer,col_indexer] = value instead\n",
      "\n",
      "See the caveats in the documentation: http://pandas.pydata.org/pandas-docs/stable/user_guide/indexing.html#returning-a-view-versus-a-copy\n",
      "  after removing the cwd from sys.path.\n"
     ]
    }
   ],
   "source": [
    "#convert steps to numeric\n",
    "stepstoint = pd.to_numeric(healthdata['Activity_(steps)'])\n",
    "\n",
    "healthdata['Activity_(steps)'] = stepstoint"
   ]
  },
  {
   "cell_type": "code",
   "execution_count": 43,
   "metadata": {},
   "outputs": [
    {
     "name": "stderr",
     "output_type": "stream",
     "text": [
      "/Users/andrewleonard/opt/anaconda3/lib/python3.7/site-packages/ipykernel_launcher.py:4: SettingWithCopyWarning: \n",
      "A value is trying to be set on a copy of a slice from a DataFrame.\n",
      "Try using .loc[row_indexer,col_indexer] = value instead\n",
      "\n",
      "See the caveats in the documentation: http://pandas.pydata.org/pandas-docs/stable/user_guide/indexing.html#returning-a-view-versus-a-copy\n",
      "  after removing the cwd from sys.path.\n"
     ]
    }
   ],
   "source": [
    "#convert sleep quality to numeric\n",
    "qualitytoint = pd.to_numeric(healthdata['Sleep_quality'])\n",
    "\n",
    "healthdata['Sleep_quality'] = qualitytoint"
   ]
  },
  {
   "cell_type": "code",
   "execution_count": 44,
   "metadata": {},
   "outputs": [
    {
     "data": {
      "text/html": [
       "<div>\n",
       "<style scoped>\n",
       "    .dataframe tbody tr th:only-of-type {\n",
       "        vertical-align: middle;\n",
       "    }\n",
       "\n",
       "    .dataframe tbody tr th {\n",
       "        vertical-align: top;\n",
       "    }\n",
       "\n",
       "    .dataframe thead th {\n",
       "        text-align: right;\n",
       "    }\n",
       "</style>\n",
       "<table border=\"1\" class=\"dataframe\">\n",
       "  <thead>\n",
       "    <tr style=\"text-align: right;\">\n",
       "      <th></th>\n",
       "      <th>Start</th>\n",
       "      <th>End</th>\n",
       "      <th>Sleep_quality</th>\n",
       "      <th>Time_in_bed</th>\n",
       "      <th>Activity_(steps)</th>\n",
       "      <th>SleepDay</th>\n",
       "      <th>creationDate</th>\n",
       "      <th>value</th>\n",
       "      <th>HRDay</th>\n",
       "      <th>0.0</th>\n",
       "      <th>1.0</th>\n",
       "    </tr>\n",
       "  </thead>\n",
       "  <tbody>\n",
       "    <tr>\n",
       "      <td>0</td>\n",
       "      <td>2017-09-25 22:11:31</td>\n",
       "      <td>2017-09-26 05:27:44</td>\n",
       "      <td>75.0</td>\n",
       "      <td>7.266667</td>\n",
       "      <td>10998</td>\n",
       "      <td>2017-09-25</td>\n",
       "      <td>2017-09-25 21:46:14</td>\n",
       "      <td>60</td>\n",
       "      <td>2017-09-25</td>\n",
       "      <td>1</td>\n",
       "      <td>0</td>\n",
       "    </tr>\n",
       "    <tr>\n",
       "      <td>1</td>\n",
       "      <td>2017-09-26 21:49:25</td>\n",
       "      <td>2017-09-27 05:36:03</td>\n",
       "      <td>73.0</td>\n",
       "      <td>7.766667</td>\n",
       "      <td>8617</td>\n",
       "      <td>2017-09-26</td>\n",
       "      <td>2017-09-26 21:41:07</td>\n",
       "      <td>64</td>\n",
       "      <td>2017-09-26</td>\n",
       "      <td>1</td>\n",
       "      <td>0</td>\n",
       "    </tr>\n",
       "    <tr>\n",
       "      <td>2</td>\n",
       "      <td>2017-09-27 21:50:47</td>\n",
       "      <td>2017-09-28 05:04:03</td>\n",
       "      <td>72.0</td>\n",
       "      <td>7.216667</td>\n",
       "      <td>13334</td>\n",
       "      <td>2017-09-27</td>\n",
       "      <td>2017-09-27 21:25:45</td>\n",
       "      <td>66</td>\n",
       "      <td>2017-09-27</td>\n",
       "      <td>1</td>\n",
       "      <td>0</td>\n",
       "    </tr>\n",
       "    <tr>\n",
       "      <td>3</td>\n",
       "      <td>2017-09-28 21:39:15</td>\n",
       "      <td>2017-09-29 05:41:53</td>\n",
       "      <td>83.0</td>\n",
       "      <td>8.033333</td>\n",
       "      <td>20242</td>\n",
       "      <td>2017-09-28</td>\n",
       "      <td>2017-09-28 21:02:10</td>\n",
       "      <td>56</td>\n",
       "      <td>2017-09-28</td>\n",
       "      <td>1</td>\n",
       "      <td>0</td>\n",
       "    </tr>\n",
       "    <tr>\n",
       "      <td>4</td>\n",
       "      <td>2017-09-29 23:13:14</td>\n",
       "      <td>2017-09-30 06:26:00</td>\n",
       "      <td>80.0</td>\n",
       "      <td>7.200000</td>\n",
       "      <td>14844</td>\n",
       "      <td>2017-09-29</td>\n",
       "      <td>2017-09-29 21:26:39</td>\n",
       "      <td>56</td>\n",
       "      <td>2017-09-29</td>\n",
       "      <td>1</td>\n",
       "      <td>0</td>\n",
       "    </tr>\n",
       "    <tr>\n",
       "      <td>...</td>\n",
       "      <td>...</td>\n",
       "      <td>...</td>\n",
       "      <td>...</td>\n",
       "      <td>...</td>\n",
       "      <td>...</td>\n",
       "      <td>...</td>\n",
       "      <td>...</td>\n",
       "      <td>...</td>\n",
       "      <td>...</td>\n",
       "      <td>...</td>\n",
       "      <td>...</td>\n",
       "    </tr>\n",
       "    <tr>\n",
       "      <td>401</td>\n",
       "      <td>2019-02-06 21:24:33</td>\n",
       "      <td>2019-02-07 05:00:55</td>\n",
       "      <td>80.0</td>\n",
       "      <td>7.600000</td>\n",
       "      <td>12143</td>\n",
       "      <td>2019-02-06</td>\n",
       "      <td>2019-02-06 21:23:59</td>\n",
       "      <td>60</td>\n",
       "      <td>2019-02-06</td>\n",
       "      <td>1</td>\n",
       "      <td>0</td>\n",
       "    </tr>\n",
       "    <tr>\n",
       "      <td>402</td>\n",
       "      <td>2019-02-07 21:55:42</td>\n",
       "      <td>2019-02-08 06:00:41</td>\n",
       "      <td>85.0</td>\n",
       "      <td>8.066667</td>\n",
       "      <td>10782</td>\n",
       "      <td>2019-02-07</td>\n",
       "      <td>2019-02-07 21:20:33</td>\n",
       "      <td>59</td>\n",
       "      <td>2019-02-07</td>\n",
       "      <td>1</td>\n",
       "      <td>0</td>\n",
       "    </tr>\n",
       "    <tr>\n",
       "      <td>403</td>\n",
       "      <td>2019-02-08 22:13:17</td>\n",
       "      <td>2019-02-09 06:00:47</td>\n",
       "      <td>85.0</td>\n",
       "      <td>7.783333</td>\n",
       "      <td>11034</td>\n",
       "      <td>2019-02-08</td>\n",
       "      <td>2019-02-08 17:14:47</td>\n",
       "      <td>60</td>\n",
       "      <td>2019-02-08</td>\n",
       "      <td>1</td>\n",
       "      <td>0</td>\n",
       "    </tr>\n",
       "    <tr>\n",
       "      <td>404</td>\n",
       "      <td>2019-02-09 22:29:54</td>\n",
       "      <td>2019-02-10 06:51:04</td>\n",
       "      <td>90.0</td>\n",
       "      <td>8.350000</td>\n",
       "      <td>4657</td>\n",
       "      <td>2019-02-09</td>\n",
       "      <td>2019-02-09 22:47:07</td>\n",
       "      <td>55</td>\n",
       "      <td>2019-02-09</td>\n",
       "      <td>0</td>\n",
       "      <td>1</td>\n",
       "    </tr>\n",
       "    <tr>\n",
       "      <td>405</td>\n",
       "      <td>2019-02-10 22:10:00</td>\n",
       "      <td>2019-02-11 06:24:02</td>\n",
       "      <td>84.0</td>\n",
       "      <td>8.233333</td>\n",
       "      <td>5110</td>\n",
       "      <td>2019-02-10</td>\n",
       "      <td>2019-02-10 21:00:08</td>\n",
       "      <td>59</td>\n",
       "      <td>2019-02-10</td>\n",
       "      <td>0</td>\n",
       "      <td>1</td>\n",
       "    </tr>\n",
       "  </tbody>\n",
       "</table>\n",
       "<p>406 rows × 11 columns</p>\n",
       "</div>"
      ],
      "text/plain": [
       "                  Start                 End  Sleep_quality  Time_in_bed  \\\n",
       "0   2017-09-25 22:11:31 2017-09-26 05:27:44           75.0     7.266667   \n",
       "1   2017-09-26 21:49:25 2017-09-27 05:36:03           73.0     7.766667   \n",
       "2   2017-09-27 21:50:47 2017-09-28 05:04:03           72.0     7.216667   \n",
       "3   2017-09-28 21:39:15 2017-09-29 05:41:53           83.0     8.033333   \n",
       "4   2017-09-29 23:13:14 2017-09-30 06:26:00           80.0     7.200000   \n",
       "..                  ...                 ...            ...          ...   \n",
       "401 2019-02-06 21:24:33 2019-02-07 05:00:55           80.0     7.600000   \n",
       "402 2019-02-07 21:55:42 2019-02-08 06:00:41           85.0     8.066667   \n",
       "403 2019-02-08 22:13:17 2019-02-09 06:00:47           85.0     7.783333   \n",
       "404 2019-02-09 22:29:54 2019-02-10 06:51:04           90.0     8.350000   \n",
       "405 2019-02-10 22:10:00 2019-02-11 06:24:02           84.0     8.233333   \n",
       "\n",
       "     Activity_(steps)    SleepDay        creationDate  value       HRDay  0.0  \\\n",
       "0               10998  2017-09-25 2017-09-25 21:46:14     60  2017-09-25    1   \n",
       "1                8617  2017-09-26 2017-09-26 21:41:07     64  2017-09-26    1   \n",
       "2               13334  2017-09-27 2017-09-27 21:25:45     66  2017-09-27    1   \n",
       "3               20242  2017-09-28 2017-09-28 21:02:10     56  2017-09-28    1   \n",
       "4               14844  2017-09-29 2017-09-29 21:26:39     56  2017-09-29    1   \n",
       "..                ...         ...                 ...    ...         ...  ...   \n",
       "401             12143  2019-02-06 2019-02-06 21:23:59     60  2019-02-06    1   \n",
       "402             10782  2019-02-07 2019-02-07 21:20:33     59  2019-02-07    1   \n",
       "403             11034  2019-02-08 2019-02-08 17:14:47     60  2019-02-08    1   \n",
       "404              4657  2019-02-09 2019-02-09 22:47:07     55  2019-02-09    0   \n",
       "405              5110  2019-02-10 2019-02-10 21:00:08     59  2019-02-10    0   \n",
       "\n",
       "     1.0  \n",
       "0      0  \n",
       "1      0  \n",
       "2      0  \n",
       "3      0  \n",
       "4      0  \n",
       "..   ...  \n",
       "401    0  \n",
       "402    0  \n",
       "403    0  \n",
       "404    1  \n",
       "405    1  \n",
       "\n",
       "[406 rows x 11 columns]"
      ]
     },
     "execution_count": 44,
     "metadata": {},
     "output_type": "execute_result"
    }
   ],
   "source": [
    "healthdata[0:406]"
   ]
  },
  {
   "cell_type": "code",
   "execution_count": 45,
   "metadata": {},
   "outputs": [
    {
     "data": {
      "text/plain": [
       "['Start',\n",
       " 'End',\n",
       " 'Sleep_quality',\n",
       " 'Time_in_bed',\n",
       " 'Activity_(steps)',\n",
       " 'SleepDay',\n",
       " 'creationDate',\n",
       " 'value',\n",
       " 'HRDay',\n",
       " 0.0,\n",
       " 1.0]"
      ]
     },
     "execution_count": 45,
     "metadata": {},
     "output_type": "execute_result"
    }
   ],
   "source": [
    "list(healthdata.columns)"
   ]
  },
  {
   "cell_type": "code",
   "execution_count": 138,
   "metadata": {},
   "outputs": [],
   "source": [
    "mean_of_X = healthdata[0:406][['Activity_(steps)', 'Time_in_bed', 'value']].mean()\n",
    "std_of_X = healthdata[0:406][['Activity_(steps)', 'Time_in_bed', 'value']].std()\n",
    "mean_of_Y = healthdata[0:406]['Sleep_quality'].mean()\n",
    "std_of_Y = healthdata[0:406]['Sleep_quality'].std()"
   ]
  },
  {
   "cell_type": "code",
   "execution_count": 108,
   "metadata": {},
   "outputs": [],
   "source": [
    "#from sklearn import preprocessing\n",
    "\n",
    "#normalize data\n",
    "normalized = preprocessing.scale(healthdata[0:406][['Activity_(steps)', 'Time_in_bed', 'value']])\n",
    "normdata = pd.DataFrame(normalized, columns = ['Activity_(steps)', 'Time_in_bed', 'value'])\n",
    "Xdataset = normdata.join(healthdata[0:406][[0,1]])"
   ]
  },
  {
   "cell_type": "code",
   "execution_count": 156,
   "metadata": {},
   "outputs": [],
   "source": [
    "#choose our x variables and y, leave out zero step days\n",
    "#X = healthdata[0:406][['Activity_(steps)', 'Time_in_bed', 'value', 0.0, 1.0]]\n",
    "#y = healthdata[0:406]['Sleep_quality']"
   ]
  },
  {
   "cell_type": "code",
   "execution_count": 121,
   "metadata": {},
   "outputs": [],
   "source": [
    "X = Xdataset\n",
    "y = preprocessing.scale(healthdata[0:406]['Sleep_quality'])"
   ]
  },
  {
   "cell_type": "code",
   "execution_count": 122,
   "metadata": {},
   "outputs": [
    {
     "data": {
      "text/plain": [
       "406"
      ]
     },
     "execution_count": 122,
     "metadata": {},
     "output_type": "execute_result"
    }
   ],
   "source": [
    "#check our data pulled correctly\n",
    "len(X)"
   ]
  },
  {
   "cell_type": "code",
   "execution_count": 123,
   "metadata": {},
   "outputs": [
    {
     "data": {
      "text/plain": [
       "<matplotlib.axes._subplots.AxesSubplot at 0x7fbd9178d790>"
      ]
     },
     "execution_count": 123,
     "metadata": {},
     "output_type": "execute_result"
    },
    {
     "data": {
      "image/png": "[encoded data removed]",
      "text/plain": [
       "<Figure size 1080x720 with 1 Axes>"
      ]
     },
     "metadata": {
      "needs_background": "light"
     },
     "output_type": "display_data"
    }
   ],
   "source": [
    "#distribution of our output\n",
    "plt.figure(figsize=(15,10))\n",
    "plt.tight_layout()\n",
    "seabornInstance.distplot(y)"
   ]
  },
  {
   "cell_type": "code",
   "execution_count": 157,
   "metadata": {},
   "outputs": [],
   "source": [
    "#create train and test sets\n",
    "X_train, X_test, y_train, y_test = train_test_split(X, y, test_size=0.2, random_state=0)"
   ]
  },
  {
   "cell_type": "code",
   "execution_count": 158,
   "metadata": {},
   "outputs": [
    {
     "data": {
      "text/plain": [
       "LinearRegression(copy_X=True, fit_intercept=True, n_jobs=None, normalize=False)"
      ]
     },
     "execution_count": 158,
     "metadata": {},
     "output_type": "execute_result"
    }
   ],
   "source": [
    "#train model\n",
    "regressor = LinearRegression()  \n",
    "regressor.fit(X_train, y_train)"
   ]
  },
  {
   "cell_type": "code",
   "execution_count": 159,
   "metadata": {},
   "outputs": [
    {
     "data": {
      "text/html": [
       "<div>\n",
       "<style scoped>\n",
       "    .dataframe tbody tr th:only-of-type {\n",
       "        vertical-align: middle;\n",
       "    }\n",
       "\n",
       "    .dataframe tbody tr th {\n",
       "        vertical-align: top;\n",
       "    }\n",
       "\n",
       "    .dataframe thead th {\n",
       "        text-align: right;\n",
       "    }\n",
       "</style>\n",
       "<table border=\"1\" class=\"dataframe\">\n",
       "  <thead>\n",
       "    <tr style=\"text-align: right;\">\n",
       "      <th></th>\n",
       "      <th>Coefficient</th>\n",
       "    </tr>\n",
       "  </thead>\n",
       "  <tbody>\n",
       "    <tr>\n",
       "      <td>Activity_(steps)</td>\n",
       "      <td>0.000076</td>\n",
       "    </tr>\n",
       "    <tr>\n",
       "      <td>Time_in_bed</td>\n",
       "      <td>10.493892</td>\n",
       "    </tr>\n",
       "    <tr>\n",
       "      <td>value</td>\n",
       "      <td>0.062866</td>\n",
       "    </tr>\n",
       "    <tr>\n",
       "      <td>0.0</td>\n",
       "      <td>0.102843</td>\n",
       "    </tr>\n",
       "    <tr>\n",
       "      <td>1.0</td>\n",
       "      <td>-0.102843</td>\n",
       "    </tr>\n",
       "  </tbody>\n",
       "</table>\n",
       "</div>"
      ],
      "text/plain": [
       "                  Coefficient\n",
       "Activity_(steps)     0.000076\n",
       "Time_in_bed         10.493892\n",
       "value                0.062866\n",
       "0.0                  0.102843\n",
       "1.0                 -0.102843"
      ]
     },
     "execution_count": 159,
     "metadata": {},
     "output_type": "execute_result"
    }
   ],
   "source": [
    "#view selected coefficients\n",
    "coeff_df = pd.DataFrame(regressor.coef_, X.columns, columns=['Coefficient'])  \n",
    "coeff_df"
   ]
  },
  {
   "cell_type": "code",
   "execution_count": 160,
   "metadata": {},
   "outputs": [
    {
     "data": {
      "text/plain": [
       "array([10307.84883675,    16.39590777,    59.81268075])"
      ]
     },
     "execution_count": 160,
     "metadata": {},
     "output_type": "execute_result"
    }
   ],
   "source": [
    "regressor.coef_[0:3]*np.array(std_of_X)+np.array(mean_of_X)"
   ]
  },
  {
   "cell_type": "code",
   "execution_count": 161,
   "metadata": {},
   "outputs": [
    {
     "data": {
      "text/plain": [
       "array([3.23581281e+03, 8.10438269e-01, 4.42524108e+00])"
      ]
     },
     "execution_count": 161,
     "metadata": {},
     "output_type": "execute_result"
    }
   ],
   "source": [
    "np.array(std_of_X)"
   ]
  },
  {
   "cell_type": "code",
   "execution_count": 162,
   "metadata": {},
   "outputs": [
    {
     "data": {
      "text/plain": [
       "-2.248252766420805"
      ]
     },
     "execution_count": 162,
     "metadata": {},
     "output_type": "execute_result"
    }
   ],
   "source": [
    "#intercepet\n",
    "regressor.intercept_"
   ]
  },
  {
   "cell_type": "code",
   "execution_count": 163,
   "metadata": {},
   "outputs": [
    {
     "data": {
      "text/plain": [
       "0.6059692838921764"
      ]
     },
     "execution_count": 163,
     "metadata": {},
     "output_type": "execute_result"
    }
   ],
   "source": [
    "#r^2\n",
    "regressor.score(X,y)"
   ]
  },
  {
   "cell_type": "code",
   "execution_count": 164,
   "metadata": {},
   "outputs": [],
   "source": [
    "#predict \n",
    "y_pred = regressor.predict(X_test)"
   ]
  },
  {
   "cell_type": "code",
   "execution_count": 165,
   "metadata": {},
   "outputs": [
    {
     "data": {
      "text/html": [
       "<div>\n",
       "<style scoped>\n",
       "    .dataframe tbody tr th:only-of-type {\n",
       "        vertical-align: middle;\n",
       "    }\n",
       "\n",
       "    .dataframe tbody tr th {\n",
       "        vertical-align: top;\n",
       "    }\n",
       "\n",
       "    .dataframe thead th {\n",
       "        text-align: right;\n",
       "    }\n",
       "</style>\n",
       "<table border=\"1\" class=\"dataframe\">\n",
       "  <thead>\n",
       "    <tr style=\"text-align: right;\">\n",
       "      <th></th>\n",
       "      <th>Actual</th>\n",
       "      <th>Predicted</th>\n",
       "    </tr>\n",
       "  </thead>\n",
       "  <tbody>\n",
       "    <tr>\n",
       "      <td>175</td>\n",
       "      <td>72.0</td>\n",
       "      <td>77.849783</td>\n",
       "    </tr>\n",
       "    <tr>\n",
       "      <td>239</td>\n",
       "      <td>85.0</td>\n",
       "      <td>78.375436</td>\n",
       "    </tr>\n",
       "    <tr>\n",
       "      <td>60</td>\n",
       "      <td>84.0</td>\n",
       "      <td>84.861689</td>\n",
       "    </tr>\n",
       "    <tr>\n",
       "      <td>231</td>\n",
       "      <td>77.0</td>\n",
       "      <td>82.353301</td>\n",
       "    </tr>\n",
       "    <tr>\n",
       "      <td>134</td>\n",
       "      <td>81.0</td>\n",
       "      <td>84.608782</td>\n",
       "    </tr>\n",
       "    <tr>\n",
       "      <td>299</td>\n",
       "      <td>100.0</td>\n",
       "      <td>92.993500</td>\n",
       "    </tr>\n",
       "    <tr>\n",
       "      <td>240</td>\n",
       "      <td>95.0</td>\n",
       "      <td>90.595456</td>\n",
       "    </tr>\n",
       "    <tr>\n",
       "      <td>238</td>\n",
       "      <td>83.0</td>\n",
       "      <td>76.885250</td>\n",
       "    </tr>\n",
       "    <tr>\n",
       "      <td>360</td>\n",
       "      <td>83.0</td>\n",
       "      <td>83.545012</td>\n",
       "    </tr>\n",
       "    <tr>\n",
       "      <td>102</td>\n",
       "      <td>86.0</td>\n",
       "      <td>90.585879</td>\n",
       "    </tr>\n",
       "    <tr>\n",
       "      <td>350</td>\n",
       "      <td>96.0</td>\n",
       "      <td>99.882236</td>\n",
       "    </tr>\n",
       "    <tr>\n",
       "      <td>330</td>\n",
       "      <td>74.0</td>\n",
       "      <td>76.404135</td>\n",
       "    </tr>\n",
       "    <tr>\n",
       "      <td>341</td>\n",
       "      <td>82.0</td>\n",
       "      <td>85.203112</td>\n",
       "    </tr>\n",
       "    <tr>\n",
       "      <td>328</td>\n",
       "      <td>92.0</td>\n",
       "      <td>89.176639</td>\n",
       "    </tr>\n",
       "    <tr>\n",
       "      <td>12</td>\n",
       "      <td>83.0</td>\n",
       "      <td>90.915347</td>\n",
       "    </tr>\n",
       "    <tr>\n",
       "      <td>135</td>\n",
       "      <td>94.0</td>\n",
       "      <td>91.270661</td>\n",
       "    </tr>\n",
       "    <tr>\n",
       "      <td>65</td>\n",
       "      <td>94.0</td>\n",
       "      <td>87.713346</td>\n",
       "    </tr>\n",
       "    <tr>\n",
       "      <td>179</td>\n",
       "      <td>79.0</td>\n",
       "      <td>83.530170</td>\n",
       "    </tr>\n",
       "    <tr>\n",
       "      <td>319</td>\n",
       "      <td>99.0</td>\n",
       "      <td>99.501447</td>\n",
       "    </tr>\n",
       "    <tr>\n",
       "      <td>90</td>\n",
       "      <td>97.0</td>\n",
       "      <td>86.635465</td>\n",
       "    </tr>\n",
       "    <tr>\n",
       "      <td>329</td>\n",
       "      <td>80.0</td>\n",
       "      <td>85.931551</td>\n",
       "    </tr>\n",
       "    <tr>\n",
       "      <td>272</td>\n",
       "      <td>97.0</td>\n",
       "      <td>90.611284</td>\n",
       "    </tr>\n",
       "    <tr>\n",
       "      <td>142</td>\n",
       "      <td>83.0</td>\n",
       "      <td>81.571405</td>\n",
       "    </tr>\n",
       "    <tr>\n",
       "      <td>141</td>\n",
       "      <td>80.0</td>\n",
       "      <td>90.050927</td>\n",
       "    </tr>\n",
       "    <tr>\n",
       "      <td>159</td>\n",
       "      <td>94.0</td>\n",
       "      <td>91.972025</td>\n",
       "    </tr>\n",
       "  </tbody>\n",
       "</table>\n",
       "</div>"
      ],
      "text/plain": [
       "     Actual  Predicted\n",
       "175    72.0  77.849783\n",
       "239    85.0  78.375436\n",
       "60     84.0  84.861689\n",
       "231    77.0  82.353301\n",
       "134    81.0  84.608782\n",
       "299   100.0  92.993500\n",
       "240    95.0  90.595456\n",
       "238    83.0  76.885250\n",
       "360    83.0  83.545012\n",
       "102    86.0  90.585879\n",
       "350    96.0  99.882236\n",
       "330    74.0  76.404135\n",
       "341    82.0  85.203112\n",
       "328    92.0  89.176639\n",
       "12     83.0  90.915347\n",
       "135    94.0  91.270661\n",
       "65     94.0  87.713346\n",
       "179    79.0  83.530170\n",
       "319    99.0  99.501447\n",
       "90     97.0  86.635465\n",
       "329    80.0  85.931551\n",
       "272    97.0  90.611284\n",
       "142    83.0  81.571405\n",
       "141    80.0  90.050927\n",
       "159    94.0  91.972025"
      ]
     },
     "execution_count": 165,
     "metadata": {},
     "output_type": "execute_result"
    }
   ],
   "source": [
    "#actual versus predicted\n",
    "df = pd.DataFrame({'Actual': y_test*np.array(std_of_Y)+np.array(mean_of_Y), 'Predicted': y_pred*np.array(std_of_Y)+np.array(mean_of_Y)})\n",
    "df1 = df.head(25)\n",
    "df1"
   ]
  },
  {
   "cell_type": "code",
   "execution_count": 155,
   "metadata": {},
   "outputs": [
    {
     "data": {
      "image/png": "[encoded data removed]",
      "text/plain": [
       "<Figure size 720x576 with 1 Axes>"
      ]
     },
     "metadata": {
      "needs_background": "light"
     },
     "output_type": "display_data"
    }
   ],
   "source": [
    "#plot actual versus predicted\n",
    "df1.plot(kind='bar',figsize=(10,8))\n",
    "plt.grid(which='major', linestyle='-', linewidth='0.5', color='green')\n",
    "plt.grid(which='minor', linestyle=':', linewidth='0.5', color='black')\n",
    "plt.show()"
   ]
  },
  {
   "cell_type": "code",
   "execution_count": 87,
   "metadata": {},
   "outputs": [
    {
     "name": "stdout",
     "output_type": "stream",
     "text": [
      "Mean Absolute Error: 5.192835470395681\n",
      "Mean Squared Error: 43.20800957314991\n",
      "Root Mean Squared Error: 6.573279970695749\n"
     ]
    }
   ],
   "source": [
    "print('Mean Absolute Error:', metrics.mean_absolute_error(y_test, y_pred))  \n",
    "print('Mean Squared Error:', metrics.mean_squared_error(y_test, y_pred))  \n",
    "print('Root Mean Squared Error:', np.sqrt(metrics.mean_squared_error(y_test, y_pred)))"
   ]
  },
  {
   "cell_type": "code",
   "execution_count": 88,
   "metadata": {},
   "outputs": [
    {
     "data": {
      "text/plain": [
       "43.208009573149894"
      ]
     },
     "execution_count": 88,
     "metadata": {},
     "output_type": "execute_result"
    }
   ],
   "source": [
    "#MSE by hand\n",
    "sum((y_test - y_pred)**2)/(len(y_pred))"
   ]
  },
  {
   "cell_type": "code",
   "execution_count": 89,
   "metadata": {},
   "outputs": [
    {
     "data": {
      "text/plain": [
       "6.573279970695748"
      ]
     },
     "execution_count": 89,
     "metadata": {},
     "output_type": "execute_result"
    }
   ],
   "source": [
    "#RMSE by hand\n",
    "np.sqrt(sum((y_test - y_pred)**2)/(len(y_pred)))"
   ]
  },
  {
   "cell_type": "code",
   "execution_count": 90,
   "metadata": {},
   "outputs": [
    {
     "name": "stderr",
     "output_type": "stream",
     "text": [
      "/Users/andrewleonard/opt/anaconda3/lib/python3.7/site-packages/numpy/core/fromnumeric.py:2495: FutureWarning: Method .ptp is deprecated and will be removed in a future version. Use numpy.ptp instead.\n",
      "  return ptp(axis=axis, out=out, **kwargs)\n"
     ]
    },
    {
     "data": {
      "text/html": [
       "<table class=\"simpletable\">\n",
       "<caption>OLS Regression Results</caption>\n",
       "<tr>\n",
       "  <th>Dep. Variable:</th>      <td>Sleep_quality</td>  <th>  R-squared:         </th> <td>   0.634</td>\n",
       "</tr>\n",
       "<tr>\n",
       "  <th>Model:</th>                   <td>OLS</td>       <th>  Adj. R-squared:    </th> <td>   0.630</td>\n",
       "</tr>\n",
       "<tr>\n",
       "  <th>Method:</th>             <td>Least Squares</td>  <th>  F-statistic:       </th> <td>   138.2</td>\n",
       "</tr>\n",
       "<tr>\n",
       "  <th>Date:</th>             <td>Fri, 10 Apr 2020</td> <th>  Prob (F-statistic):</th> <td>2.31e-68</td>\n",
       "</tr>\n",
       "<tr>\n",
       "  <th>Time:</th>                 <td>12:59:00</td>     <th>  Log-Likelihood:    </th> <td> -1075.2</td>\n",
       "</tr>\n",
       "<tr>\n",
       "  <th>No. Observations:</th>      <td>   324</td>      <th>  AIC:               </th> <td>   2160.</td>\n",
       "</tr>\n",
       "<tr>\n",
       "  <th>Df Residuals:</th>          <td>   319</td>      <th>  BIC:               </th> <td>   2179.</td>\n",
       "</tr>\n",
       "<tr>\n",
       "  <th>Df Model:</th>              <td>     4</td>      <th>                     </th>     <td> </td>   \n",
       "</tr>\n",
       "<tr>\n",
       "  <th>Covariance Type:</th>      <td>nonrobust</td>    <th>                     </th>     <td> </td>   \n",
       "</tr>\n",
       "</table>\n",
       "<table class=\"simpletable\">\n",
       "<tr>\n",
       "          <td></td>            <th>coef</th>     <th>std err</th>      <th>t</th>      <th>P>|t|</th>  <th>[0.025</th>    <th>0.975]</th>  \n",
       "</tr>\n",
       "<tr>\n",
       "  <th>const</th>            <td>   -1.4988</td> <td>    4.237</td> <td>   -0.354</td> <td> 0.724</td> <td>   -9.836</td> <td>    6.838</td>\n",
       "</tr>\n",
       "<tr>\n",
       "  <th>Activity_(steps)</th> <td> 7.584e-05</td> <td>    0.000</td> <td>    0.611</td> <td> 0.541</td> <td>   -0.000</td> <td>    0.000</td>\n",
       "</tr>\n",
       "<tr>\n",
       "  <th>Time_in_bed</th>      <td>   10.4939</td> <td>    0.485</td> <td>   21.646</td> <td> 0.000</td> <td>    9.540</td> <td>   11.448</td>\n",
       "</tr>\n",
       "<tr>\n",
       "  <th>value</th>            <td>    0.0629</td> <td>    0.086</td> <td>    0.728</td> <td> 0.467</td> <td>   -0.107</td> <td>    0.233</td>\n",
       "</tr>\n",
       "<tr>\n",
       "  <th>0.0</th>              <td>   -0.6466</td> <td>    2.149</td> <td>   -0.301</td> <td> 0.764</td> <td>   -4.874</td> <td>    3.581</td>\n",
       "</tr>\n",
       "<tr>\n",
       "  <th>1.0</th>              <td>   -0.8523</td> <td>    2.240</td> <td>   -0.380</td> <td> 0.704</td> <td>   -5.259</td> <td>    3.555</td>\n",
       "</tr>\n",
       "</table>\n",
       "<table class=\"simpletable\">\n",
       "<tr>\n",
       "  <th>Omnibus:</th>       <td>48.098</td> <th>  Durbin-Watson:     </th> <td>   2.073</td>\n",
       "</tr>\n",
       "<tr>\n",
       "  <th>Prob(Omnibus):</th> <td> 0.000</td> <th>  Jarque-Bera (JB):  </th> <td>  88.576</td>\n",
       "</tr>\n",
       "<tr>\n",
       "  <th>Skew:</th>          <td>-0.824</td> <th>  Prob(JB):          </th> <td>5.83e-20</td>\n",
       "</tr>\n",
       "<tr>\n",
       "  <th>Kurtosis:</th>      <td> 4.961</td> <th>  Cond. No.          </th> <td>4.47e+19</td>\n",
       "</tr>\n",
       "</table><br/><br/>Warnings:<br/>[1] Standard Errors assume that the covariance matrix of the errors is correctly specified.<br/>[2] The smallest eigenvalue is 1.93e-29. This might indicate that there are<br/>strong multicollinearity problems or that the design matrix is singular."
      ],
      "text/plain": [
       "<class 'statsmodels.iolib.summary.Summary'>\n",
       "\"\"\"\n",
       "                            OLS Regression Results                            \n",
       "==============================================================================\n",
       "Dep. Variable:          Sleep_quality   R-squared:                       0.634\n",
       "Model:                            OLS   Adj. R-squared:                  0.630\n",
       "Method:                 Least Squares   F-statistic:                     138.2\n",
       "Date:                Fri, 10 Apr 2020   Prob (F-statistic):           2.31e-68\n",
       "Time:                        12:59:00   Log-Likelihood:                -1075.2\n",
       "No. Observations:                 324   AIC:                             2160.\n",
       "Df Residuals:                     319   BIC:                             2179.\n",
       "Df Model:                           4                                         \n",
       "Covariance Type:            nonrobust                                         \n",
       "====================================================================================\n",
       "                       coef    std err          t      P>|t|      [0.025      0.975]\n",
       "------------------------------------------------------------------------------------\n",
       "const               -1.4988      4.237     -0.354      0.724      -9.836       6.838\n",
       "Activity_(steps)  7.584e-05      0.000      0.611      0.541      -0.000       0.000\n",
       "Time_in_bed         10.4939      0.485     21.646      0.000       9.540      11.448\n",
       "value                0.0629      0.086      0.728      0.467      -0.107       0.233\n",
       "0.0                 -0.6466      2.149     -0.301      0.764      -4.874       3.581\n",
       "1.0                 -0.8523      2.240     -0.380      0.704      -5.259       3.555\n",
       "==============================================================================\n",
       "Omnibus:                       48.098   Durbin-Watson:                   2.073\n",
       "Prob(Omnibus):                  0.000   Jarque-Bera (JB):               88.576\n",
       "Skew:                          -0.824   Prob(JB):                     5.83e-20\n",
       "Kurtosis:                       4.961   Cond. No.                     4.47e+19\n",
       "==============================================================================\n",
       "\n",
       "Warnings:\n",
       "[1] Standard Errors assume that the covariance matrix of the errors is correctly specified.\n",
       "[2] The smallest eigenvalue is 1.93e-29. This might indicate that there are\n",
       "strong multicollinearity problems or that the design matrix is singular.\n",
       "\"\"\""
      ]
     },
     "execution_count": 90,
     "metadata": {},
     "output_type": "execute_result"
    }
   ],
   "source": [
    "#using statsmodels\n",
    "import statsmodels.api as sm # import statsmodels \n",
    "\n",
    "X = healthdata[0:406][['Activity_(steps)','Time_in_bed', 'value', 0.0, 1.0]]\n",
    "y = healthdata[0:406]['Sleep_quality']\n",
    "X = sm.add_constant(X) ## let's add an intercept (beta_0) to our model\n",
    "\n",
    "X_train, X_test, y_train, y_test = train_test_split(X, y, test_size=0.2, random_state=0)\n",
    "\n",
    "# Note the difference in argument order\n",
    "model = sm.OLS(y_train, X_train).fit() ## sm.OLS(output, input)\n",
    "predictions = model.predict(X_test)\n",
    "\n",
    "# Print out the statistics\n",
    "model.summary()"
   ]
  },
  {
   "cell_type": "code",
   "execution_count": 127,
   "metadata": {},
   "outputs": [
    {
     "data": {
      "text/html": [
       "<div>\n",
       "<style scoped>\n",
       "    .dataframe tbody tr th:only-of-type {\n",
       "        vertical-align: middle;\n",
       "    }\n",
       "\n",
       "    .dataframe tbody tr th {\n",
       "        vertical-align: top;\n",
       "    }\n",
       "\n",
       "    .dataframe thead th {\n",
       "        text-align: right;\n",
       "    }\n",
       "</style>\n",
       "<table border=\"1\" class=\"dataframe\">\n",
       "  <thead>\n",
       "    <tr style=\"text-align: right;\">\n",
       "      <th></th>\n",
       "      <th>Actual</th>\n",
       "      <th>Predicted</th>\n",
       "    </tr>\n",
       "  </thead>\n",
       "  <tbody>\n",
       "    <tr>\n",
       "      <td>175</td>\n",
       "      <td>72</td>\n",
       "      <td>77.849783</td>\n",
       "    </tr>\n",
       "    <tr>\n",
       "      <td>239</td>\n",
       "      <td>85</td>\n",
       "      <td>78.375436</td>\n",
       "    </tr>\n",
       "    <tr>\n",
       "      <td>60</td>\n",
       "      <td>84</td>\n",
       "      <td>84.861689</td>\n",
       "    </tr>\n",
       "    <tr>\n",
       "      <td>231</td>\n",
       "      <td>77</td>\n",
       "      <td>82.353301</td>\n",
       "    </tr>\n",
       "    <tr>\n",
       "      <td>134</td>\n",
       "      <td>81</td>\n",
       "      <td>84.608782</td>\n",
       "    </tr>\n",
       "    <tr>\n",
       "      <td>299</td>\n",
       "      <td>100</td>\n",
       "      <td>92.993500</td>\n",
       "    </tr>\n",
       "    <tr>\n",
       "      <td>240</td>\n",
       "      <td>95</td>\n",
       "      <td>90.595456</td>\n",
       "    </tr>\n",
       "    <tr>\n",
       "      <td>238</td>\n",
       "      <td>83</td>\n",
       "      <td>76.885250</td>\n",
       "    </tr>\n",
       "    <tr>\n",
       "      <td>360</td>\n",
       "      <td>83</td>\n",
       "      <td>83.545012</td>\n",
       "    </tr>\n",
       "    <tr>\n",
       "      <td>102</td>\n",
       "      <td>86</td>\n",
       "      <td>90.585879</td>\n",
       "    </tr>\n",
       "    <tr>\n",
       "      <td>350</td>\n",
       "      <td>96</td>\n",
       "      <td>99.882236</td>\n",
       "    </tr>\n",
       "    <tr>\n",
       "      <td>330</td>\n",
       "      <td>74</td>\n",
       "      <td>76.404135</td>\n",
       "    </tr>\n",
       "    <tr>\n",
       "      <td>341</td>\n",
       "      <td>82</td>\n",
       "      <td>85.203112</td>\n",
       "    </tr>\n",
       "    <tr>\n",
       "      <td>328</td>\n",
       "      <td>92</td>\n",
       "      <td>89.176639</td>\n",
       "    </tr>\n",
       "    <tr>\n",
       "      <td>12</td>\n",
       "      <td>83</td>\n",
       "      <td>90.915347</td>\n",
       "    </tr>\n",
       "    <tr>\n",
       "      <td>135</td>\n",
       "      <td>94</td>\n",
       "      <td>91.270661</td>\n",
       "    </tr>\n",
       "    <tr>\n",
       "      <td>65</td>\n",
       "      <td>94</td>\n",
       "      <td>87.713346</td>\n",
       "    </tr>\n",
       "    <tr>\n",
       "      <td>179</td>\n",
       "      <td>79</td>\n",
       "      <td>83.530170</td>\n",
       "    </tr>\n",
       "    <tr>\n",
       "      <td>319</td>\n",
       "      <td>99</td>\n",
       "      <td>99.501447</td>\n",
       "    </tr>\n",
       "    <tr>\n",
       "      <td>90</td>\n",
       "      <td>97</td>\n",
       "      <td>86.635465</td>\n",
       "    </tr>\n",
       "    <tr>\n",
       "      <td>329</td>\n",
       "      <td>80</td>\n",
       "      <td>85.931551</td>\n",
       "    </tr>\n",
       "    <tr>\n",
       "      <td>272</td>\n",
       "      <td>97</td>\n",
       "      <td>90.611284</td>\n",
       "    </tr>\n",
       "    <tr>\n",
       "      <td>142</td>\n",
       "      <td>83</td>\n",
       "      <td>81.571405</td>\n",
       "    </tr>\n",
       "    <tr>\n",
       "      <td>141</td>\n",
       "      <td>80</td>\n",
       "      <td>90.050927</td>\n",
       "    </tr>\n",
       "    <tr>\n",
       "      <td>159</td>\n",
       "      <td>94</td>\n",
       "      <td>91.972025</td>\n",
       "    </tr>\n",
       "  </tbody>\n",
       "</table>\n",
       "</div>"
      ],
      "text/plain": [
       "     Actual  Predicted\n",
       "175      72  77.849783\n",
       "239      85  78.375436\n",
       "60       84  84.861689\n",
       "231      77  82.353301\n",
       "134      81  84.608782\n",
       "299     100  92.993500\n",
       "240      95  90.595456\n",
       "238      83  76.885250\n",
       "360      83  83.545012\n",
       "102      86  90.585879\n",
       "350      96  99.882236\n",
       "330      74  76.404135\n",
       "341      82  85.203112\n",
       "328      92  89.176639\n",
       "12       83  90.915347\n",
       "135      94  91.270661\n",
       "65       94  87.713346\n",
       "179      79  83.530170\n",
       "319      99  99.501447\n",
       "90       97  86.635465\n",
       "329      80  85.931551\n",
       "272      97  90.611284\n",
       "142      83  81.571405\n",
       "141      80  90.050927\n",
       "159      94  91.972025"
      ]
     },
     "execution_count": 127,
     "metadata": {},
     "output_type": "execute_result"
    }
   ],
   "source": [
    "#actual versus predicted\n",
    "df = pd.DataFrame({'Actual': y_test, 'Predicted': predictions})\n",
    "df1 = df.head(25)\n",
    "df1"
   ]
  },
  {
   "cell_type": "code",
   "execution_count": 128,
   "metadata": {},
   "outputs": [
    {
     "data": {
      "text/plain": [
       "<matplotlib.axes._subplots.AxesSubplot at 0x7ff5c84c0ed0>"
      ]
     },
     "execution_count": 128,
     "metadata": {},
     "output_type": "execute_result"
    },
    {
     "data": {
      "image/png": "[encoded data removed]",
      "text/plain": [
       "<Figure size 432x288 with 1 Axes>"
      ]
     },
     "metadata": {
      "needs_background": "light"
     },
     "output_type": "display_data"
    }
   ],
   "source": [
    "#plot residuals \n",
    "seabornInstance.residplot(predictions, y_test, lowess=True, color=\"g\")"
   ]
  },
  {
   "cell_type": "code",
   "execution_count": 129,
   "metadata": {},
   "outputs": [
    {
     "data": {
      "text/plain": [
       "-24.32715999793946"
      ]
     },
     "execution_count": 129,
     "metadata": {},
     "output_type": "execute_result"
    }
   ],
   "source": [
    "#min residuals\n",
    "min(y_test-predictions)"
   ]
  },
  {
   "cell_type": "code",
   "execution_count": null,
   "metadata": {},
   "outputs": [],
   "source": []
  }
 ],
 "metadata": {
  "kernelspec": {
   "display_name": "Python 3",
   "language": "python",
   "name": "python3"
  },
  "language_info": {
   "codemirror_mode": {
    "name": "ipython",
    "version": 3
   },
   "file_extension": ".py",
   "mimetype": "text/x-python",
   "name": "python",
   "nbconvert_exporter": "python",
   "pygments_lexer": "ipython3",
   "version": "3.7.4"
  }
 },
 "nbformat": 4,
 "nbformat_minor": 2
}
